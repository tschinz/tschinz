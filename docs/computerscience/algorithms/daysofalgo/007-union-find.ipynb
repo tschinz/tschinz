{
 "cells": [
  {
   "cell_type": "markdown",
   "metadata": {},
   "source": [
    "# Union-find\n",
    "\n",
    "[Union-find](https://en.wikipedia.org/wiki/Disjoint-set_data_structure) also called disjoint-set is a data structure capable of tracking and merging of disjoint-sets. It is important an used in many other algorithms such as Kruskal's algorithm, Prolog unification etc.\n",
    "\n",
    "There are two additional speed improvements to the algorithm:\n",
    "* rank (weighing) is a new parameter initialized with 0 for all elements. With the union the ranks are matched and the parents nodes get +1.\n",
    "* path compression, flattens the tree structure whenever find is performed.\n",
    "\n",
    "More information in [this](https://github.com/tschinz/days-of-algo/blob/master/jupyterbook/notebooks/resources/007-union-find.pdf) from the University of Princeton\n",
    "\n",
    "## Solution\n",
    "\n",
    "The algorithm implements two functions\n",
    "* `union(a, b)` - merge A's set with B's set\n",
    "* `find(a)` - finds what set A belongs to\n",
    "\n",
    "![Union Find Source: [Nakoblog](https://s-nako.work/2020/04/union-find-in-python/)](resources/007-union-find.png)"
   ]
  },
  {
   "cell_type": "markdown",
   "metadata": {},
   "source": [
    "## Imports"
   ]
  },
  {
   "cell_type": "code",
   "execution_count": 12,
   "metadata": {},
   "outputs": [],
   "source": [
    "import numpy as np\n",
    "from bokeh.plotting import figure, show, output_notebook"
   ]
  },
  {
   "cell_type": "markdown",
   "metadata": {},
   "source": [
    "## Algorithm"
   ]
  },
  {
   "cell_type": "code",
   "execution_count": 18,
   "metadata": {},
   "outputs": [],
   "source": [
    "class UnionFind:\n",
    "  \"\"\"Implementation of the Union-find algorithm to handle disjoint-datasets\n",
    "  \"\"\"\n",
    "\n",
    "\n",
    "  def __init__(self: UnionFind, size: int):\n",
    "    \"\"\"initialise UnionFind object. Mainly setup rank and parent lists\n",
    "\n",
    "    Args:\n",
    "        self (UnionFind): pointer to itself\n",
    "        size (int): number of unique elements in the tree / disjoint dataset\n",
    "    \"\"\"\n",
    "    self.rank = [0 for i in range(size)]\n",
    "    self.parent = [-1 for i in range(size)]\n",
    "\n",
    "  def find(self: UnionFind, x: int):\n",
    "    \"\"\"find root of a given elements\n",
    "\n",
    "    Args:\n",
    "        self (UnionFind): pointer to itself\n",
    "        x (int): elements to locate\n",
    "\n",
    "    Returns:\n",
    "        int: root element of tree containing the element x\n",
    "    \"\"\"\n",
    "    parent = self.parent[x]\n",
    "    while parent >= 0:  # termination condition has changed\n",
    "      x = parent\n",
    "      parent = self.parent[x]\n",
    "    return x\n",
    "\n",
    "  def union(self: UnionFind, x: int, y: int):\n",
    "    \"\"\"create tree by merging subtree where x belongs to subtree where y belongs to\n",
    "\n",
    "    Args:\n",
    "        self (UnionFind): pointer to itself\n",
    "        x (int): element/subtree to merge\n",
    "        y (int): element/subtree to merge\n",
    "    \"\"\"\n",
    "    # find root of the subtrees (if there are any)\n",
    "    root_x = self.find(x)\n",
    "    root_y = self.find(y)\n",
    "    # if they don't belong to the same subtree, the have to be merged\n",
    "    if root_x != root_y:\n",
    "      if self.rank[root_x] >= self.rank[root_y]:\n",
    "        self.parent[root_x] += self.parent[root_y]  #parent[root_id] is always negative\n",
    "        self.parent[root_y] = root_x\n",
    "        self.rank[root_x] = max(self.rank[root_y] + 1, self.rank[root_x])\n",
    "      else:\n",
    "        self.parent[root_y] += self.parent[root_x]\n",
    "        self.parent[root_x] = root_y\n",
    "        self.rank[root_y] = max(self.rank[root_x] + 1, self.rank[root_y])\n",
    "\n",
    "  def same(self: UnionFind, x: int, y: int):\n",
    "    \"\"\"[summary]\n",
    "\n",
    "    Args:\n",
    "        self (UnionFind): pointer to itself\n",
    "        x (int): [description]\n",
    "        y (int): [description]\n",
    "\n",
    "    Returns:\n",
    "        [type]: [description]\n",
    "    \"\"\"\n",
    "    return self.find(x) == self.find(y)\n",
    "\n",
    "\n",
    "  def findRootAndSize(self: UnionFind):\n",
    "    \"\"\"Returns root element and the unique element number\n",
    "\n",
    "    Args:\n",
    "        self (UnionFind): pointer to itself\n",
    "\n",
    "    Returns:\n",
    "        list: list of tuple for (root element, number of elements in subtree)\n",
    "    \"\"\"\n",
    "    return [(idx, -val) for idx, val in enumerate(self.parent) if val<0 ]"
   ]
  },
  {
   "cell_type": "markdown",
   "metadata": {},
   "source": [
    "## Test\n",
    "![Union Find](./resources/007-union-find.png) "
   ]
  },
  {
   "cell_type": "code",
   "execution_count": 30,
   "metadata": {},
   "outputs": [
    {
     "name": "stdout",
     "output_type": "stream",
     "text": [
      "Create disjoint dataset of 5 unique elements\n",
      "  + Merge(4,2)\n",
      "  - Root(0)=0\n",
      "  + Merge(4,2)\n",
      "  - Root(0)=4\n",
      "  + Merge(4,2)\n",
      "  - Root(3)=1\n",
      "There are 2 subtrees with [(root/nbrOfElements), ...]: [(1, 2), (4, 3)]\n",
      "  + Merge(4,2)\n",
      "  - Root(4)=1\n",
      "There are 1 subtrees with [(root/nbrOfElements), ...]: [(1, 5)]\n"
     ]
    }
   ],
   "source": [
    "print(\"Create disjoint dataset of 5 unique elements\")\n",
    "unionfind = UnionFind(5)\n",
    "print(\"  + Merge(4,2)\")\n",
    "unionfind.union(4, 2)\n",
    "print(\"  - Root(0)={}\".format(unionfind.find(0)))\n",
    "print(\"  + Merge(4,2)\")\n",
    "unionfind.union(4, 0)\n",
    "print(\"  - Root(0)={}\".format(unionfind.find(0)))\n",
    "print(\"  + Merge(4,2)\")\n",
    "unionfind.union(1, 3)\n",
    "print(\"  - Root(3)={}\".format(unionfind.find(3)))\n",
    "print(\"There are {} subtrees with [(root/nbrOfElements), ...]: {}\".format(len(unionfind.findRootAndSize()), unionfind.findRootAndSize()))\n",
    "print(\"  + Merge(4,2)\")\n",
    "unionfind.union(1, 2)\n",
    "print(\"  - Root(4)={}\".format(unionfind.find(4)))\n",
    "print(\"There are {} subtrees with [(root/nbrOfElements), ...]: {}\".format(len(unionfind.findRootAndSize()), unionfind.findRootAndSize()))"
   ]
  }
 ],
 "metadata": {
  "interpreter": {
   "hash": "579658931a9ee5a566d859011b110d45b1307b50642b87f1e088320bdb784c2c"
  },
  "kernelspec": {
   "display_name": "Python 3.8.11 64-bit ('daysofalgo': conda)",
   "language": "python",
   "name": "python3"
  },
  "language_info": {
   "codemirror_mode": {
    "name": "ipython",
    "version": 3
   },
   "file_extension": ".py",
   "mimetype": "text/x-python",
   "name": "python",
   "nbconvert_exporter": "python",
   "pygments_lexer": "ipython3",
   "version": "3.8.11"
  },
  "orig_nbformat": 4
 },
 "nbformat": 4,
 "nbformat_minor": 2
}
