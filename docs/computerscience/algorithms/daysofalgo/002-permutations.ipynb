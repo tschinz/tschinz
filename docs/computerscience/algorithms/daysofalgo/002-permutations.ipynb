{
 "cells": [
  {
   "cell_type": "markdown",
   "metadata": {},
   "source": [
    "# All permutations and next permutation\n",
    "\n",
    "## Next Permutation\n",
    "\n",
    "[Permutation](https://en.wikipedia.org/wiki/Permutation) is the act of arranging members into a sequence or linear order. For example each combination of a Rubik's cube is one individual permutation.\n",
    "In this exercise a totally ordered set is given and the next permutation needs to be found.\n",
    "\n",
    "$$NEXT \\rightarrow NETX  \\rightarrow NXTE \\rightarrow NXET \\rightarrow \\cdots $$\n",
    "\n",
    "### Solution\n",
    "\n",
    "The algo is simple\n",
    "* beginning from the end, find the longest decreasing sequence 42**531**\n",
    "* denote the preceding item as pivot 4**2**531.\n",
    "* Swap pivot with the smallest higher item 4**3**5**2**1 in the sequence\n",
    "* revert the sequence 43**125**.\n",
    "\n",
    "## All Permuations\n",
    "\n",
    "### Number of possible permutations\n",
    "\n",
    "Important here is how large is the set ($n$) and how many no-repeating objects create the permutation $r$. In the case above \"NEXT\" has 4 elements ($n=4$) and we need to choose 4 of them (r = 4).\n",
    "\n",
    "$$P_{(n,r)} = \\frac{n!}{(n-r)!}$$\n",
    "\n",
    "if elements can be repeated than the formula changes\n",
    "\n",
    "$$P_{(n,r)} = n^r$$\n",
    "\n",
    "if $n = r$\n",
    "\n",
    "$$P_{(n)} = n!$$\n",
    "\n",
    "\n",
    "\n",
    "In the example case\n",
    "\n",
    "$$ P = 4! = 4*3*2*1 = 24$$\n",
    "\n",
    "### Solution\n",
    "\n",
    "![Permutation Example](/resources/002-permutations.svg){.center}"
   ]
  },
  {
   "cell_type": "markdown",
   "metadata": {},
   "source": [
    "## Imports"
   ]
  },
  {
   "cell_type": "code",
   "execution_count": 1,
   "metadata": {},
   "outputs": [],
   "source": [
    "import math\n",
    "import itertools"
   ]
  },
  {
   "cell_type": "markdown",
   "metadata": {},
   "source": [
    "## Programatical reflections\n",
    "In python string characters have values and can be compared against each other"
   ]
  },
  {
   "cell_type": "code",
   "execution_count": null,
   "metadata": {},
   "outputs": [
    {
     "name": "stdout",
     "output_type": "stream",
     "text": [
      "1<2 is True\n",
      "2<A is True\n",
      "A<B is True\n",
      "B<a is True\n",
      "a<b is True\n",
      "+----------lowest value\n",
      "|       +--highest value\n",
      "|       |\n",
      "0-9A-Za-z\n"
     ]
    }
   ],
   "source": [
    "values = \"12ABab\"\n",
    "print(\"{}<{} is {}\".format(values[0], values[1], values[0] < values[1]))\n",
    "print(\"{}<{} is {}\".format(values[1], values[2], values[1] < values[2]))\n",
    "print(\"{}<{} is {}\".format(values[2], values[3], values[2] < values[3]))\n",
    "print(\"{}<{} is {}\".format(values[3], values[4], values[3] < values[4]))\n",
    "print(\"{}<{} is {}\".format(values[4], values[5], values[4] < values[5]))\n",
    "\n",
    "print(\"+----------lowest value\")\n",
    "print(\"|       +--highest value\")\n",
    "print(\"|       |\")\n",
    "print(\"0-9A-Za-z\")"
   ]
  },
  {
   "cell_type": "markdown",
   "metadata": {},
   "source": [
    "## Algorithm"
   ]
  },
  {
   "cell_type": "code",
   "execution_count": 23,
   "metadata": {},
   "outputs": [],
   "source": [
    "def permute(string: str, prefix: str = '', premutations: list = []):\n",
    "  \"\"\"Find all permutations of a given string of characters and place them in a list\n",
    "\n",
    "  Args:\n",
    "      string (str): string of characters in any perticular order\n",
    "      prefix (str, optional): [description]. Defaults to ''.\n",
    "      premutations (list, optional): [description]. Defaults to [].\n",
    "\n",
    "  Returns:\n",
    "      [type]: [description]\n",
    "  \"\"\"\n",
    "  if len(string) == 0:\n",
    "    premutations.append(prefix)\n",
    "  else:\n",
    "    for i in range(len(string)):\n",
    "      rem = string[0:i] + string[i + 1:]\n",
    "      permute(rem, prefix + string[i], premutations)\n",
    "\n",
    "def allPermutations(string: str):\n",
    "  \"\"\"List all possible permutations for a given list of values\n",
    "\n",
    "  Args:\n",
    "      string (str): list of characters in any perticular order\n",
    "  \"\"\"\n",
    "  number_of_permutations = math.factorial(len(string))\n",
    "  print(number_of_permutations)\n",
    "  permutations = []\n",
    "  permute(string, \"\", permutations)\n",
    "  return permutations\n"
   ]
  },
  {
   "cell_type": "markdown",
   "metadata": {},
   "source": [
    "## Test"
   ]
  },
  {
   "cell_type": "code",
   "execution_count": 28,
   "metadata": {},
   "outputs": [
    {
     "name": "stdout",
     "output_type": "stream",
     "text": [
      "120\n",
      "['NEXTT', 'NEXTT', 'NETXT', 'NETTX', 'NETXT', 'NETTX', 'NXETT', 'NXETT', 'NXTET', 'NXTTE', 'NXTET', 'NXTTE', 'NTEXT', 'NTETX', 'NTXET', 'NTXTE', 'NTTEX', 'NTTXE', 'NTEXT', 'NTETX', 'NTXET', 'NTXTE', 'NTTEX', 'NTTXE', 'ENXTT', 'ENXTT', 'ENTXT', 'ENTTX', 'ENTXT', 'ENTTX', 'EXNTT', 'EXNTT', 'EXTNT', 'EXTTN', 'EXTNT', 'EXTTN', 'ETNXT', 'ETNTX', 'ETXNT', 'ETXTN', 'ETTNX', 'ETTXN', 'ETNXT', 'ETNTX', 'ETXNT', 'ETXTN', 'ETTNX', 'ETTXN', 'XNETT', 'XNETT', 'XNTET', 'XNTTE', 'XNTET', 'XNTTE', 'XENTT', 'XENTT', 'XETNT', 'XETTN', 'XETNT', 'XETTN', 'XTNET', 'XTNTE', 'XTENT', 'XTETN', 'XTTNE', 'XTTEN', 'XTNET', 'XTNTE', 'XTENT', 'XTETN', 'XTTNE', 'XTTEN', 'TNEXT', 'TNETX', 'TNXET', 'TNXTE', 'TNTEX', 'TNTXE', 'TENXT', 'TENTX', 'TEXNT', 'TEXTN', 'TETNX', 'TETXN', 'TXNET', 'TXNTE', 'TXENT', 'TXETN', 'TXTNE', 'TXTEN', 'TTNEX', 'TTNXE', 'TTENX', 'TTEXN', 'TTXNE', 'TTXEN', 'TNEXT', 'TNETX', 'TNXET', 'TNXTE', 'TNTEX', 'TNTXE', 'TENXT', 'TENTX', 'TEXNT', 'TEXTN', 'TETNX', 'TETXN', 'TXNET', 'TXNTE', 'TXENT', 'TXETN', 'TXTNE', 'TXTEN', 'TTNEX', 'TTNXE', 'TTENX', 'TTEXN', 'TTXNE', 'TTXEN']\n",
      "Clean up duplicates\n",
      "{'ENTXT', 'TXENT', 'XNTET', 'NTXTE', 'XTNTE', 'NTEXT', 'TETNX', 'TNETX', 'NTETX', 'TTXEN', 'TXTNE', 'TXETN', 'ETNXT', 'XTETN', 'TNEXT', 'XNTTE', 'XETTN', 'XTENT', 'TXTEN', 'NTTEX', 'XTTNE', 'TNTEX', 'TTNEX', 'EXTTN', 'EXNTT', 'TNXTE', 'TENTX', 'XENTT', 'TTNXE', 'ETNTX', 'TEXTN', 'TTENX', 'ETXTN', 'ETXNT', 'NTTXE', 'TNXET', 'NEXTT', 'XNETT', 'EXTNT', 'TETXN', 'XTTEN', 'TXNTE', 'TTEXN', 'TXNET', 'NETXT', 'TNTXE', 'TEXNT', 'XTNET', 'NXETT', 'ENXTT', 'TTXNE', 'NETTX', 'NXTET', 'NTXET', 'ETTNX', 'XETNT', 'TENXT', 'ENTTX', 'ETTXN', 'NXTTE'}\n"
     ]
    }
   ],
   "source": [
    "results_with_duplicates = allPermutations(\"NEXTT\")\n",
    "if(len(set(results_with_duplicates)) == len(results_with_duplicates)):\n",
    "  print(\"All elements are unique\")\n",
    "print(results_with_duplicates)\n",
    "\n",
    "print(\"Clean up duplicates\")\n",
    "results_without_duplicates = set(results_with_duplicates)\n",
    "if(len(set(results_with_duplicates)) == len(results_with_duplicates)):\n",
    "  print(\"All elements are unique\")\n",
    "print(results_without_duplicates)\n"
   ]
  },
  {
   "cell_type": "markdown",
   "metadata": {},
   "source": [
    "## With library itertools\n",
    "with duplicates"
   ]
  },
  {
   "cell_type": "code",
   "execution_count": 16,
   "metadata": {},
   "outputs": [
    {
     "name": "stdout",
     "output_type": "stream",
     "text": [
      "['IGIT', 'IGTI', 'IIGT', 'IITG', 'ITGI', 'ITIG', 'GIIT', 'GITI', 'GIIT', 'GITI', 'GTII', 'GTII', 'IIGT', 'IITG', 'IGIT', 'IGTI', 'ITIG', 'ITGI', 'TIGI', 'TIIG', 'TGII', 'TGII', 'TIIG', 'TIGI']\n"
     ]
    }
   ],
   "source": [
    "string_permutations = itertools.permutations('IGIT')\n",
    "permutations_with_duplicates = []\n",
    "for string in string_permutations:\n",
    "    permutations_with_duplicates.append(''.join(string))\n",
    "if(len(set(permutations_with_duplicates)) == len(permutations_with_duplicates)):\n",
    "  print(\"All elements are unique\")\n",
    "print(permutations_with_duplicates)"
   ]
  },
  {
   "cell_type": "markdown",
   "metadata": {},
   "source": [
    "without duplicates"
   ]
  },
  {
   "cell_type": "code",
   "execution_count": 17,
   "metadata": {},
   "outputs": [
    {
     "name": "stdout",
     "output_type": "stream",
     "text": [
      "All elements are unique\n",
      "['IGIT', 'IGTI', 'IIGT', 'IITG', 'ITGI', 'ITIG', 'GIIT', 'GITI', 'GIIT', 'GITI', 'GTII', 'GTII', 'IIGT', 'IITG', 'IGIT', 'IGTI', 'ITIG', 'ITGI', 'TIGI', 'TIIG', 'TGII', 'TGII', 'TIIG', 'TIGI']\n"
     ]
    }
   ],
   "source": [
    "permutations_without_duplicates = set(permutations_with_duplicates)\n",
    "if(len(set(permutations_without_duplicates)) == len(permutations_without_duplicates)):\n",
    "  print(\"All elements are unique\")\n",
    "print(permutations_with_duplicates)"
   ]
  }
 ],
 "metadata": {
  "interpreter": {
   "hash": "579658931a9ee5a566d859011b110d45b1307b50642b87f1e088320bdb784c2c"
  },
  "kernelspec": {
   "display_name": "Python 3.8.11 64-bit ('daysofalgo': conda)",
   "language": "python",
   "name": "python3"
  },
  "language_info": {
   "codemirror_mode": {
    "name": "ipython",
    "version": 3
   },
   "file_extension": ".py",
   "mimetype": "text/x-python",
   "name": "python",
   "nbconvert_exporter": "python",
   "pygments_lexer": "ipython3",
   "version": "3.8.11"
  },
  "orig_nbformat": 4
 },
 "nbformat": 4,
 "nbformat_minor": 2
}
