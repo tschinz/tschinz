{
 "cells": [
  {
   "cell_type": "markdown",
   "metadata": {},
   "source": [
    "# Binary addition FSM\n",
    "\n",
    "[Binary Addition](https://en.wikipedia.org/wiki/Binary_number#Addition) can be solved with an [FSM](https://en.wikipedia.org/wiki/Finite-state_machine) (Finite State Machine). The addition itself is similar than a normal decimal addition except that there are only 4 possible outcomes.\n",
    "\n",
    "![Binary Addition]/resources/005-binary-addition.svg)\n",
    "\n",
    "In digital electronic it is solved as follows:\n",
    "\n",
    "![Binary Adder Schematic](resources/005-binary-adder.svg)\n",
    "\n",
    "There are more efficient resp. quicker implementation for but the sake of simplicity the above implementaion is best.\n",
    "\n",
    "The eight outcome state of the binary addition blocs are:\n",
    "\n",
    "| $c_i$ | $b_i$ | $a_i$ | $q_i$ | $c_{i+1}$ |\n",
    "| :---- | :---- | :---- | ----: | --------: |\n",
    "|     0 |     0 |     0 |     0 |         0 |\n",
    "|     0 |     0 |     1 |     1 |         0 |\n",
    "|     0 |     1 |     0 |     1 |         0 |\n",
    "|     0 |     1 |     1 |     0 |         1 |\n",
    "|     1 |     0 |     0 |     1 |         0 |\n",
    "|     1 |     0 |     1 |     0 |         1 |\n",
    "|     1 |     1 |     0 |     0 |         1 |\n",
    "|     1 |     1 |     1 |     1 |         1 |\n",
    "\n",
    "## Solution\n",
    "\n",
    "Outcome has 4 states depending on $q_i = 0,1$ $c_{i+1} = 0,1$\n",
    "\n",
    "![Binary Adder FSM](resources/005-binary-addition-fsm.svg)"
   ]
  },
  {
   "cell_type": "markdown",
   "metadata": {},
   "source": [
    "## Imports"
   ]
  },
  {
   "cell_type": "code",
   "execution_count": 6,
   "metadata": {},
   "outputs": [
    {
     "name": "stdout",
     "output_type": "stream",
     "text": [
      "<itertools.zip_longest object at 0x102851770>\n"
     ]
    }
   ],
   "source": [
    "import itertools\n",
    "print(itertools.zip_longest(\"010\", \"111\", fillvalue=0))"
   ]
  },
  {
   "cell_type": "markdown",
   "metadata": {},
   "source": [
    "## Algorithm"
   ]
  },
  {
   "cell_type": "code",
   "execution_count": 15,
   "metadata": {},
   "outputs": [],
   "source": [
    "def binary_addition(a: str, b: str):\n",
    "  \"\"\"Addition of two binary number represented as strings\n",
    "\n",
    "  Args:\n",
    "      a (str): first binary number\n",
    "      b (str): second binary number\n",
    "\n",
    "  Returns:\n",
    "      str: binary addition of a+b\n",
    "  \"\"\"\n",
    "  # states (output, {list of transitions})\n",
    "  _q0c0 = 0, {}\n",
    "  _q0c1 = 0, {}\n",
    "  _q1c0 = 1, {}\n",
    "  _q1c1 = 1, {}\n",
    "\n",
    "  # state transitions\n",
    "  _q0c0[1].update({(0, 0): _q0c0, (1, 0): _q1c0, (0, 1): _q1c0, (1, 1): _q0c1})\n",
    "  _q0c1[1].update({(0, 0): _q1c0, (1, 0): _q0c1, (0, 1): _q0c1, (1, 1): _q1c1})\n",
    "  _q1c0[1].update({(0, 0): _q0c0, (1, 0): _q1c0, (0, 1): _q1c0, (1, 1): _q0c1})\n",
    "  _q1c1[1].update({(0, 0): _q1c0, (1, 0): _q0c1, (0, 1): _q0c1, (1, 1): _q1c1})\n",
    "\n",
    "  # reverse to start at the lowest bit\n",
    "  a = map(int, reversed(a))\n",
    "  b = map(int, reversed(b))\n",
    "  _q = []\n",
    "\n",
    "  # simulate state machine\n",
    "  value, transition = _q0c0\n",
    "  # pick element after element for a and b and fill 0 if one number is sharter\n",
    "  for a_i, b_i in itertools.zip_longest(a, b, fillvalue=0):\n",
    "    value, transition = transition[a_i, b_i]\n",
    "    _q.append(value)\n",
    "\n",
    "  # handle carry\n",
    "  _q.append(transition[0, 0][0])\n",
    "\n",
    "  return ''.join(map(str, reversed(_q)))\n"
   ]
  },
  {
   "cell_type": "markdown",
   "metadata": {},
   "source": [
    "## Test"
   ]
  },
  {
   "cell_type": "code",
   "execution_count": 16,
   "metadata": {},
   "outputs": [
    {
     "name": "stdout",
     "output_type": "stream",
     "text": [
      "01101100\n",
      "01011010\n",
      "---------\n",
      "011000110\n"
     ]
    }
   ],
   "source": [
    "a = \"01101100\"\n",
    "b = \"01011010\"\n",
    "result = binary_addition(a, b)\n",
    "\n",
    "print(\"{}\".format(a))\n",
    "print(\"{}\".format(b))\n",
    "print(\"{}\".format(len(result)*\"-\"))\n",
    "print(result)\n"
   ]
  }
 ],
 "metadata": {
  "interpreter": {
   "hash": "579658931a9ee5a566d859011b110d45b1307b50642b87f1e088320bdb784c2c"
  },
  "kernelspec": {
   "display_name": "Python 3.8.11 64-bit ('daysofalgo': conda)",
   "language": "python",
   "name": "python3"
  },
  "language_info": {
   "codemirror_mode": {
    "name": "ipython",
    "version": 3
   },
   "file_extension": ".py",
   "mimetype": "text/x-python",
   "name": "python",
   "nbconvert_exporter": "python",
   "pygments_lexer": "ipython3",
   "version": "3.8.11"
  },
  "orig_nbformat": 4
 },
 "nbformat": 4,
 "nbformat_minor": 2
}
