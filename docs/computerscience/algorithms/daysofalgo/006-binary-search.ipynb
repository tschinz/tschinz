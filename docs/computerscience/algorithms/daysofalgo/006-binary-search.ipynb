{
 "cells": [
  {
   "cell_type": "markdown",
   "metadata": {},
   "source": [
    "# Binary Search\n",
    "\n",
    "[Binary Search](https://en.wikipedia.org/wiki/Binary_search_algorithm) allows to find an element x in as **sorted** array.\n",
    "\n",
    "Instead of a linear search with a time complexity of $O(n)$, a binary search is also known as half-interval or logarithmic search reduces the complexity to $O(log n)$. This means with every search the search space is divided by $2$.\n",
    "\n",
    "* if $k=log_2(n)$ then 1*2^k=n\n",
    "* So if $k=x\\,times$ you can multiply $1$ by $2$ until you get to $n$\n",
    "* Reversing logic: $k=x\\,of\\,times$ you can divide $n$ by $2$ until you get to $1$\n",
    "\n",
    "![Binary search complexity Source: Wikipedia](resources/006-binary-search-complexity.svg)\n",
    "\n",
    "The basic steps are:\n",
    "* Begin with an interval covering the whole array\n",
    "* if the value of the search key is less than the item in the middle of the interval, narrow the interval to the lower half.\n",
    "* Otherwise, narrow it to the upper half\n",
    "* Repeatedly check until the value is found or the interval is empty.\n",
    "\n",
    "![Binary search depiction Source: Wikipedia](resources/006-binary-search-depiction.svg)\n",
    "\n",
    "## Solution\n",
    "\n",
    "Binary Search Algorithm basically ignores the half of the elements just after one comparison.\n",
    "\n",
    "* Compare x with the middle element.\n",
    "* If x matches with the middle element, we return the mid index.\n",
    "* Else If x is greater than the mid element, then x can only lie in the right half subarray after the mid element. So we recur for the right half.\n",
    "* Else (x is smaller) recur for the left half."
   ]
  },
  {
   "cell_type": "markdown",
   "metadata": {},
   "source": [
    "\n",
    "\n",
    "\n",
    "## Imports"
   ]
  },
  {
   "cell_type": "code",
   "execution_count": null,
   "metadata": {},
   "outputs": [],
   "source": []
  },
  {
   "cell_type": "markdown",
   "metadata": {},
   "source": [
    "## Algorithm"
   ]
  },
  {
   "cell_type": "code",
   "execution_count": 6,
   "metadata": {},
   "outputs": [],
   "source": [
    "def binarySearchRecursive(array: list, searchvalue: int, lbound: int, rbound: int):\n",
    "  \"\"\"Recursive method of the binary search algorithm. Works only on sorted arrays\n",
    "\n",
    "  Args:\n",
    "      array (list): sorted array of integers\n",
    "      searchvalue (int): value to find\n",
    "      lbound (int): left searchbound within array\n",
    "      rbound (int): right searchbound within array\n",
    "\n",
    "  Returns:\n",
    "      [int]: location of searched element, -1 if not found\n",
    "  \"\"\"\n",
    "  if lbound > rbound:\n",
    "    return -1\n",
    "  _mid = (lbound + rbound) // 2 # !! integer division with //\n",
    "  if array[_mid] == value:\n",
    "    return _mid\n",
    "  elif value < array[_mid]:\n",
    "    return binarySearchRecursive(array, value, lbound, _mid-1)\n",
    "  else:\n",
    "    return binarySearchRecursive(array, value, _mid+1, rbound)\n",
    "\n",
    "def binarySearchIterative(array: list, value: int):\n",
    "  \"\"\"Iterative greedy method of the binary search algorithm. Works only on sorted arrays\n",
    "\n",
    "  Args:\n",
    "      array (list): sorted array of integers\n",
    "      value (int): value to find\n",
    "\n",
    "  Returns:\n",
    "      [type]: location of searched element, -1 if not found\n",
    "  \"\"\"\n",
    "  _lbound, _rbound = 0, len(array) - 1\n",
    "  while _lbound <= _rbound:\n",
    "    _mid = (_lbound + _rbound) // 2  # !! integer division with //\n",
    "    if value < array[_mid]:\n",
    "      _rbound = _mid - 1\n",
    "    elif value > array[_mid]:\n",
    "      _lbound = _mid + 1\n",
    "    else:\n",
    "      return _mid\n",
    "  return -1"
   ]
  },
  {
   "cell_type": "markdown",
   "metadata": {},
   "source": [
    "## Test"
   ]
  },
  {
   "cell_type": "code",
   "execution_count": 7,
   "metadata": {},
   "outputs": [],
   "source": [
    "data = [2, 3, 5, 7, 11, 13, 17, 19, 23, 29, 31, 37, 41, 43, 47, 53, 59, 61, 67, 71, 73, 79, 83, 89, 97, 101, 103, 107, 109, 113]\n",
    "data = sorted(data)"
   ]
  },
  {
   "cell_type": "code",
   "execution_count": 8,
   "metadata": {},
   "outputs": [
    {
     "name": "stdout",
     "output_type": "stream",
     "text": [
      "array[13] = 43\n",
      "array[14] = 47\n",
      "array[-1] = 110\n",
      "array[29] = 113\n"
     ]
    }
   ],
   "source": [
    "value = 43\n",
    "location = binarySearchIterative(data, value)\n",
    "print(\"array[{}] = {}\".format(location, value))\n",
    "\n",
    "value = 47\n",
    "location = binarySearchIterative(data, value)\n",
    "print(\"array[{}] = {}\".format(location, value))\n",
    "\n",
    "value = 110\n",
    "location = binarySearchIterative(data, value)\n",
    "print(\"array[{}] = {}\".format(location, value))\n",
    "\n",
    "value = 113\n",
    "location = binarySearchIterative(data, value)\n",
    "print(\"array[{}] = {}\".format(location, value))\n"
   ]
  },
  {
   "cell_type": "code",
   "execution_count": 9,
   "metadata": {},
   "outputs": [
    {
     "name": "stdout",
     "output_type": "stream",
     "text": [
      "array[13] = 43\n",
      "array[14] = 47\n",
      "array[-1] = 110\n",
      "array[29] = 113\n"
     ]
    }
   ],
   "source": [
    "value = 43\n",
    "location = binarySearchRecursive(data, value, 0, len(data) - 1)\n",
    "print(\"array[{}] = {}\".format(location, value))\n",
    "\n",
    "value = 47\n",
    "location = binarySearchRecursive(data, value, 0, len(data) - 1)\n",
    "print(\"array[{}] = {}\".format(location, value))\n",
    "\n",
    "value = 110\n",
    "location = binarySearchRecursive(data, value, 0, len(data) - 1)\n",
    "print(\"array[{}] = {}\".format(location, value))\n",
    "\n",
    "value = 113\n",
    "location = binarySearchRecursive(data, value, 0, len(data) - 1)\n",
    "print(\"array[{}] = {}\".format(location, value))\n"
   ]
  }
 ],
 "metadata": {
  "interpreter": {
   "hash": "579658931a9ee5a566d859011b110d45b1307b50642b87f1e088320bdb784c2c"
  },
  "kernelspec": {
   "display_name": "Python 3.8.11 64-bit ('daysofalgo': conda)",
   "language": "python",
   "name": "python3"
  },
  "language_info": {
   "codemirror_mode": {
    "name": "ipython",
    "version": 3
   },
   "file_extension": ".py",
   "mimetype": "text/x-python",
   "name": "python",
   "nbconvert_exporter": "python",
   "pygments_lexer": "ipython3",
   "version": "3.8.11"
  },
  "orig_nbformat": 4
 },
 "nbformat": 4,
 "nbformat_minor": 2
}
