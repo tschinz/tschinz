{
 "cells": [
  {
   "cell_type": "markdown",
   "metadata": {},
   "source": [
    "# Hanoi tower\n",
    "\n",
    "The [Hanoi Tower](https://en.wikipedia.org/wiki/Tower_of_Hanoi) is a iterative puzzle which can be solved with recursion.\n",
    "\n",
    "![Hanoi Tower Source: Wikipedia](resources/000-tower-of-hanoi.jpg)\n",
    "\n",
    "The stack of disks need to be moved from right to left. There only smaller disks can be stacked on top of any given disk.\n",
    "\n",
    "## Solution\n",
    "\n",
    "The lowest disk needs to me move first to the rightmost disk. Therefore all other disks needs to be moved to the middle disk. So multiple time the same problem means recursion.\n",
    "\n",
    "To move $N$ disks from left to right:\n",
    "1. Recursively move $N-1$ disks from left to middle\n",
    "2. Move largest disk form left to right\n",
    "3. Recursively move $N-1$ disks from middle to right\n",
    "\n",
    "![Hanoi Tower Solution Source: Wikipedia](resources/000-tower-of-hanoi.gif)"
   ]
  },
  {
   "cell_type": "markdown",
   "metadata": {},
   "source": [
    "## Imports"
   ]
  },
  {
   "cell_type": "code",
   "execution_count": 1,
   "metadata": {},
   "outputs": [],
   "source": [
    "import numpy\n",
    "import math\n",
    "import time\n",
    "from IPython.display import clear_output"
   ]
  },
  {
   "cell_type": "markdown",
   "metadata": {},
   "source": [
    "## Algorithm"
   ]
  },
  {
   "cell_type": "code",
   "execution_count": 2,
   "metadata": {},
   "outputs": [],
   "source": [
    "def hanoi(towers: list, tower_height: int, left: int=0, right: int=2, middle: int=1, display: bool=True):\n",
    "  \"\"\"Solve the Tower of Hanoi\n",
    "\n",
    "  Args:\n",
    "      towers (list): list of the tower itself\n",
    "      tower_height (int): height of the tower\n",
    "      left (int, optional): definition of left tower 0-n. Defaults to 0.\n",
    "      right (int, optional): definition of left tower 0-n. Defaults to 2.\n",
    "      middle (int, optional): definition of left tower 0-n. Defaults to 1.\n",
    "      display (bool, optional): print stack of towers in ASCII. Default to True.\n",
    "  \"\"\"\n",
    "  if tower_height > 0:\n",
    "    # move smaller from left to middle\n",
    "    hanoi(towers, tower_height - 1, left, middle, right, display)\n",
    "    # move biggest to indented position\n",
    "    if not display:\n",
    "      print(\"Move toppiece from {} to {}\".format(left, right))\n",
    "    move_piece(towers, left, right)\n",
    "    if display:\n",
    "      display_towers(towers, tower_height)\n",
    "      clear_output(wait=True)\n",
    "    # move remaining from middle to right\n",
    "    hanoi(towers, tower_height - 1, middle, right, left, display)\n",
    "\n",
    "\n",
    "def move_piece(towers: list, src_tower: int=0, dst_tower: int=1):\n",
    "  \"\"\"Move on piece from one tower to another tower\n",
    "\n",
    "  Args:\n",
    "      towers (list): list of the tower itself\n",
    "      src_tower (int, optional): tower to be moved from. Defaults to 0.\n",
    "      dst_tower (int, optional): tower to place on. Defaults to 1.\n",
    "  \"\"\"\n",
    "  _piece_to_move=0\n",
    "  # search for toppiece to move (top to bottom)\n",
    "  for y in range(len(towers[src_tower])):\n",
    "    if towers[src_tower][y] != 0:\n",
    "      _piece_to_move = towers[src_tower][y]\n",
    "      towers[src_tower][y] = 0\n",
    "      break\n",
    "  # search for empty toppiece to place (bottom to top)\n",
    "  for y in reversed(range(len(towers[dst_tower]))):\n",
    "    if towers[dst_tower][y] == 0:\n",
    "      towers[dst_tower][y] = _piece_to_move\n",
    "      break\n",
    "\n",
    "\n",
    "def display_towers(towers: list, speed: int=0.5):\n",
    "  \"\"\"Display the tower as ASCII Characters\n",
    "\n",
    "  Args:\n",
    "      towers (list): list of the tower itself\n",
    "      speed (int): time to wait after display\n",
    "  \"\"\"\n",
    "  _screen = \"\"\n",
    "  for y in range(len(towers[0])):\n",
    "    for x in range(len(towers)):\n",
    "      _l = math.floor((len(towers[0])-towers[x][y])/2)\n",
    "      _m = towers[x][y]\n",
    "      _r = math.ceil((len(towers[0])-towers[x][y])/2)\n",
    "      if _m == 0:\n",
    "        _screen += \" \" + (_l-1)*\" \" + 1*\"|\" + _r*\" \" + \" \"\n",
    "      else:\n",
    "        _screen += \" \" + _l*\" \" + _m*\"x\" + _r*\" \" + \" \"\n",
    "    _screen += \"\\n\"\n",
    "  print(_screen)\n",
    "  time.sleep(speed)"
   ]
  },
  {
   "cell_type": "markdown",
   "metadata": {},
   "source": [
    "## Test"
   ]
  },
  {
   "cell_type": "code",
   "execution_count": 3,
   "metadata": {},
   "outputs": [
    {
     "name": "stdout",
     "output_type": "stream",
     "text": [
      "  x     |     |   \n",
      "  xx    |     |   \n",
      " xxx    |     |   \n",
      " xxxx   |     |   \n",
      "\n",
      "Move toppiece from 0 to 1\n",
      "Move toppiece from 0 to 2\n",
      "Move toppiece from 1 to 2\n",
      "Move toppiece from 0 to 1\n",
      "Move toppiece from 2 to 0\n",
      "Move toppiece from 2 to 1\n",
      "Move toppiece from 0 to 1\n",
      "Move toppiece from 0 to 2\n",
      "Move toppiece from 1 to 2\n",
      "Move toppiece from 1 to 0\n",
      "Move toppiece from 2 to 0\n",
      "Move toppiece from 1 to 2\n",
      "Move toppiece from 0 to 1\n",
      "Move toppiece from 0 to 2\n",
      "Move toppiece from 1 to 2\n"
     ]
    }
   ],
   "source": [
    "tower_height = 4\n",
    "nbr_of_towers = 3\n",
    "\n",
    "# create empty list and populate it\n",
    "towers = [[0 for columns in range(tower_height)] for rows in range(nbr_of_towers)]\n",
    "for x in range(len(towers)):\n",
    "  for y in range(len(towers[0])):\n",
    "    if x == 0:\n",
    "      towers[x][y] = y+1\n",
    "\n",
    "display_towers(towers, tower_height)\n",
    "hanoi(towers, tower_height, display=False)"
   ]
  },
  {
   "cell_type": "code",
   "execution_count": 4,
   "metadata": {},
   "outputs": [
    {
     "name": "stdout",
     "output_type": "stream",
     "text": [
      "  |     |     x   \n",
      "  |     |     xx  \n",
      "  |     |    xxx  \n",
      "  |     |    xxxx \n",
      "\n"
     ]
    }
   ],
   "source": [
    "tower_height = 4\n",
    "nbr_of_towers = 3\n",
    "\n",
    "# create empty list and populate it\n",
    "towers = [[0 for columns in range(tower_height)] for rows in range(nbr_of_towers)]\n",
    "for x in range(len(towers)):\n",
    "  for y in range(len(towers[0])):\n",
    "    if x == 0:\n",
    "      towers[x][y] = y+1\n",
    "\n",
    "display_towers(towers, tower_height)\n",
    "clear_output(wait=True)\n",
    "hanoi(towers, tower_height, display=True)\n"
   ]
  }
 ],
 "metadata": {
  "interpreter": {
   "hash": "579658931a9ee5a566d859011b110d45b1307b50642b87f1e088320bdb784c2c"
  },
  "kernelspec": {
   "display_name": "Python 3.8.11 64-bit ('daysofalgo': conda)",
   "language": "python",
   "name": "python3"
  },
  "language_info": {
   "codemirror_mode": {
    "name": "ipython",
    "version": 3
   },
   "file_extension": ".py",
   "mimetype": "text/x-python",
   "name": "python",
   "nbconvert_exporter": "python",
   "pygments_lexer": "ipython3",
   "version": "3.8.11"
  },
  "orig_nbformat": 4
 },
 "nbformat": 4,
 "nbformat_minor": 2
}
