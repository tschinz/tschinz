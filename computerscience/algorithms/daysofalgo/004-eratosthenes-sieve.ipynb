{
 "cells": [
  {
   "cell_type": "markdown",
   "metadata": {},
   "source": [
    "# Prime numbers with Eratosthenes sieve\n",
    "\n",
    "[Sieve of Eratosthenes](https://en.wikipedia.org/wiki/Sieve_of_Eratosthenes) is an ancien greek algorithm for finding all prime numbers up to any given limit.\n",
    "\n",
    "A prime number is natural number that has exactly two distinct natural numbers divisors; the number 1 and itself.\n",
    "\n",
    "The first prime numbers are\n",
    "\n",
    "$$ 2,3,5,7,11,13,17,19,23,29,31,37,41,43,47,53,59,61,67,71,73,79,83,89,97,101,103,107,109,113 $$\n",
    "\n",
    "## Solution\n",
    "\n",
    "To find all the prime numbers less than or equal to a given integer $n$ by Eratosthenes' method:\n",
    "\n",
    "1. Create a list of consecutive integers from $2$ through $n$: $(2, 3, 4, ..., n)$.\n",
    "2. Initially, let $p$ equal 2, the smallest prime number.\n",
    "3. Enumerate the multiples of $p$ by counting in increments of $p$ from $2p$ to $n$, and mark them in the list (these will be $2p, 3p, 4p, ...;$ the $p$ itself should not be marked).\n",
    "4. Find the smallest number in the list greater than $p$ that is not marked. If there was no such number, stop. Otherwise, let $p$ now equal this new number (which is the next prime), and repeat from step 3.\n",
    "5. When the algorithm terminates, the numbers remaining not marked in the list are all the primes below $n$.\n",
    "\n",
    "![Animation Sieve of Eratosthenes Source: Wikipedia](resources/004-eratosthenes-sieve.gif)"
   ]
  },
  {
   "cell_type": "markdown",
   "metadata": {},
   "source": [
    "## Imports"
   ]
  },
  {
   "cell_type": "code",
   "execution_count": 1,
   "metadata": {},
   "outputs": [],
   "source": [
    "import numpy as np"
   ]
  },
  {
   "cell_type": "markdown",
   "metadata": {},
   "source": [
    "## Algorithm"
   ]
  },
  {
   "cell_type": "code",
   "execution_count": 10,
   "metadata": {},
   "outputs": [],
   "source": [
    "def seive_of_eratosthenes(n: int = 2):\n",
    "  \"\"\"Algorithm to get all Prime numbers up to the value n\n",
    "\n",
    "  Args:\n",
    "      n (int, optional): End number for the prime calculations. Defaults to 2.\n",
    "\n",
    "  Returns:\n",
    "      list: list of all primenumber upto n\n",
    "  \"\"\"\n",
    "  # create empty array\n",
    "  _is_prime = [True for i in range(n + 1)]\n",
    "  # 0 and 1 are not primes\n",
    "  _is_prime[0] = _is_prime[1] = False\n",
    "  p = 2\n",
    "  while (p * p <= n):\n",
    "    # If prime[p] is not changed, then it is a prime\n",
    "    if (_is_prime[p] == True):\n",
    "      # Update all multiples of p\n",
    "      for i in range(p ** 2, n + 1, p):\n",
    "        _is_prime[i] = False\n",
    "    p += 1\n",
    "  return _is_prime\n",
    "\n",
    "\n",
    "def print_primenumbers(is_prime: list):\n",
    "  \"\"\"Print all prime numbers indicated on a boolean list\n",
    "\n",
    "  Args:\n",
    "      is_prime (list): list of boolean indicating of the number is a prime\n",
    "  \"\"\"\n",
    "  print(\"Following are the prime numbers smaller than {}\".format(len(is_prime)))\n",
    "  for p in range(len(is_prime)):\n",
    "    if is_prime[p]:\n",
    "      print(p, end=' ')\n"
   ]
  },
  {
   "cell_type": "markdown",
   "metadata": {},
   "source": [
    "## Test"
   ]
  },
  {
   "cell_type": "code",
   "execution_count": 13,
   "metadata": {},
   "outputs": [
    {
     "name": "stdout",
     "output_type": "stream",
     "text": [
      "Following are the prime numbers smaller than 121\n",
      "2 3 5 7 11 13 17 19 23 29 31 37 41 43 47 53 59 61 67 71 73 79 83 89 97 101 103 107 109 113 "
     ]
    }
   ],
   "source": [
    "is_prime = seive_of_eratosthenes(120)\n",
    "print_primenumbers(is_prime)"
   ]
  }
 ],
 "metadata": {
  "interpreter": {
   "hash": "579658931a9ee5a566d859011b110d45b1307b50642b87f1e088320bdb784c2c"
  },
  "kernelspec": {
   "display_name": "Python 3.8.11 64-bit ('daysofalgo': conda)",
   "language": "python",
   "name": "python3"
  },
  "language_info": {
   "codemirror_mode": {
    "name": "ipython",
    "version": 3
   },
   "file_extension": ".py",
   "mimetype": "text/x-python",
   "name": "python",
   "nbconvert_exporter": "python",
   "pygments_lexer": "ipython3",
   "version": "3.8.11"
  },
  "orig_nbformat": 4
 },
 "nbformat": 4,
 "nbformat_minor": 2
}
