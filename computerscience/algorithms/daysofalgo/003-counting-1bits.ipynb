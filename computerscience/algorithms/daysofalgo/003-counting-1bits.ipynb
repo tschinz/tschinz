{
 "cells": [
  {
   "cell_type": "markdown",
   "metadata": {},
   "source": [
    "# Counting 1 Bits\n",
    "\n",
    "Many times you need to count the number of ones or zeros in a number. Let's take as example $123_{10} = 1111011_2$. There are 6 ones and 1 zero.\n",
    "\n",
    "You can place a single bit mask and run over the number and count non-zero results. But with that solution you loop over ones and zeros.\n",
    "\n",
    "```python\n",
    "x & (1 << k)\n",
    "```\n",
    "\n",
    "It is possible to count only the ones and ignoring the zeros, meaning only performing 6 iteration instead of 7\n",
    "\n",
    "\n",
    "## Solution\n",
    "\n",
    "Bitwise and of value and value-1 `value & value-1` until `value = 0`\n",
    "\n",
    "$$\n",
    "\\;\\;\\;\\;1111011_2 \\\\\n",
    "\\frac{\\&\\;1111010_2}{\\;\\;\\;\\;1111010_2} \\\\\n",
    "$$\n",
    "$$\n",
    "\\;\\;\\;\\;1111010_2 \\\\\n",
    "\\frac{\\&\\;1111001_2}{\\;\\;\\;\\;1111000_2} \\\\\n",
    "$$\n",
    "$$\n",
    "\\;\\;\\;\\;1111000_2 \\\\\n",
    "\\frac{\\&\\;1110111_2}{\\;\\;\\;\\;1110000_2} \\\\\n",
    "$$\n",
    "$$\n",
    "\\;\\;\\;\\;1110000_2 \\\\\n",
    "\\frac{\\&\\;1101111_2}{\\;\\;\\;\\;1100000_2} \\\\\n",
    "$$\n",
    "$$\n",
    "\\;\\;\\;\\;1100000_2 \\\\\n",
    "\\frac{\\&\\;1011111_2}{\\;\\;\\;\\;1000000_2} \\\\\n",
    "$$\n",
    "$$\n",
    "\\;\\;\\;\\;1000000_2 \\\\\n",
    "\\frac{\\&\\;0111111}{\\;\\;\\;\\;0000000_2} \\\\\n",
    "$$"
   ]
  },
  {
   "cell_type": "markdown",
   "metadata": {},
   "source": [
    "## Imports"
   ]
  },
  {
   "cell_type": "code",
   "execution_count": 13,
   "metadata": {},
   "outputs": [],
   "source": [
    "import math\n",
    "import itertools"
   ]
  },
  {
   "cell_type": "markdown",
   "metadata": {},
   "source": [
    "## Algorithm"
   ]
  },
  {
   "cell_type": "code",
   "execution_count": 14,
   "metadata": {},
   "outputs": [],
   "source": [
    "def count_of_1bits(value):\n",
    "    n = 0\n",
    "    print(\"0b{:b}\".format(value))\n",
    "    while value:\n",
    "        # Bitwise and of value and value-1\n",
    "        value &= value - 1\n",
    "        print(\"0b{:b}\".format(value))\n",
    "        n += 1\n",
    "    return n"
   ]
  },
  {
   "cell_type": "markdown",
   "metadata": {},
   "source": [
    "## Test"
   ]
  },
  {
   "cell_type": "code",
   "execution_count": 15,
   "metadata": {},
   "outputs": [
    {
     "name": "stdout",
     "output_type": "stream",
     "text": [
      "0b1111011\n",
      "0b1111010\n",
      "0b1111000\n",
      "0b1110000\n",
      "0b1100000\n",
      "0b1000000\n",
      "0b0\n",
      "There are 6 one's in 0b1111011\n"
     ]
    }
   ],
   "source": [
    "value = 0b1111011\n",
    "number_of_ones = count_of_1bits(value)\n",
    "print(\"There are {} one's in 0b{:b}\".format(number_of_ones, value))"
   ]
  }
 ],
 "metadata": {
  "interpreter": {
   "hash": "579658931a9ee5a566d859011b110d45b1307b50642b87f1e088320bdb784c2c"
  },
  "kernelspec": {
   "display_name": "Python 3.8.11 64-bit ('daysofalgo': conda)",
   "language": "python",
   "name": "python3"
  },
  "language_info": {
   "codemirror_mode": {
    "name": "ipython",
    "version": 3
   },
   "file_extension": ".py",
   "mimetype": "text/x-python",
   "name": "python",
   "nbconvert_exporter": "python",
   "pygments_lexer": "ipython3",
   "version": "3.8.11"
  },
  "orig_nbformat": 4
 },
 "nbformat": 4,
 "nbformat_minor": 2
}
